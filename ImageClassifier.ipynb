{
  "nbformat": 4,
  "nbformat_minor": 0,
  "metadata": {
    "accelerator": "GPU",
    "colab": {
      "name": "ImageClassifier.ipynb",
      "provenance": [],
      "collapsed_sections": []
    },
    "kernelspec": {
      "name": "python3",
      "display_name": "Python 3"
    },
    "language_info": {
      "codemirror_mode": {
        "name": "ipython",
        "version": 3
      },
      "file_extension": ".py",
      "mimetype": "text/x-python",
      "name": "python",
      "nbconvert_exporter": "python",
      "pygments_lexer": "ipython3",
      "version": "3.6.3"
    },
    "pycharm": {
      "stem_cell": {
        "cell_type": "raw",
        "metadata": {
          "collapsed": false
        },
        "source": []
      }
    }
  },
  "cells": [
    {
      "cell_type": "markdown",
      "metadata": {
        "id": "37x0ICc9q4ak",
        "colab_type": "text"
      },
      "source": [
        "___\n",
        "\n",
        "### Image Classifier\n",
        "\n",
        "CNN that classifies Fashion MNIST dataset using PyTorch with 92% accuracy. Implemented custom Conv2d module, orthogonal ititialization, and cross entropy loss.\n",
        "\n"
      ]
    },
    {
      "cell_type": "code",
      "metadata": {
        "pycharm": {
          "name": "#%%\n"
        },
        "id": "IO2wBzfPWYLw",
        "colab_type": "code",
        "outputId": "3511be48-9b4e-4f80-a9a3-6c87921ba00d",
        "colab": {
          "base_uri": "https://localhost:8080/",
          "height": 196
        }
      },
      "source": [
        "!pip3 install torch\n",
        "!pip3 install torchvision\n",
        "!pip3 install tqdm"
      ],
      "execution_count": 0,
      "outputs": [
        {
          "output_type": "stream",
          "text": [
            "Requirement already satisfied: torch in /usr/local/lib/python3.6/dist-packages (1.1.0)\n",
            "Requirement already satisfied: numpy in /usr/local/lib/python3.6/dist-packages (from torch) (1.16.5)\n",
            "Requirement already satisfied: torchvision in /usr/local/lib/python3.6/dist-packages (0.3.0)\n",
            "Requirement already satisfied: torch>=1.1.0 in /usr/local/lib/python3.6/dist-packages (from torchvision) (1.1.0)\n",
            "Requirement already satisfied: pillow>=4.1.1 in /usr/local/lib/python3.6/dist-packages (from torchvision) (4.3.0)\n",
            "Requirement already satisfied: numpy in /usr/local/lib/python3.6/dist-packages (from torchvision) (1.16.5)\n",
            "Requirement already satisfied: six in /usr/local/lib/python3.6/dist-packages (from torchvision) (1.12.0)\n",
            "Requirement already satisfied: olefile in /usr/local/lib/python3.6/dist-packages (from pillow>=4.1.1->torchvision) (0.46)\n",
            "Requirement already satisfied: tqdm in /usr/local/lib/python3.6/dist-packages (4.28.1)\n"
          ],
          "name": "stdout"
        }
      ]
    },
    {
      "cell_type": "code",
      "metadata": {
        "colab_type": "code",
        "id": "wQOefmcZVgTl",
        "colab": {}
      },
      "source": [
        "import torch\n",
        "import torch.nn as nn\n",
        "import torch.nn.functional as F\n",
        "import torch.optim as optim\n",
        "from torch.utils.data import Dataset, DataLoader\n",
        "import numpy as np\n",
        "import matplotlib.pyplot as plt\n",
        "from torchvision import transforms, utils, datasets\n",
        "from tqdm import tqdm\n",
        "import sys\n",
        "from torch.nn.parameter import Parameter\n",
        "import pdb\n",
        "\n",
        "assert torch.cuda.is_available(), \"You need to request a GPU from Runtime > Change Runtime\""
      ],
      "execution_count": 0,
      "outputs": []
    },
    {
      "cell_type": "code",
      "metadata": {
        "colab_type": "code",
        "id": "Il_53HLSWPTY",
        "outputId": "466b7ef5-8273-4fa7-c4aa-186b2c7e75bd",
        "colab": {
          "base_uri": "https://localhost:8080/",
          "height": 1000
        }
      },
      "source": [
        "# 0=xe, 1=othogonal, 2=uniform None=default\n",
        "InitStrategy = 1\n",
        "\n",
        "\n",
        "class Conv2d(nn.Module):\n",
        "  def __init__(self, in_channels, out_channels, kernel_size, stride=1, padding=0, dilation=1, groups=1, bias=True):\n",
        "      self.__dict__.update(locals())\n",
        "      super(Conv2d, self).__init__()\n",
        "      \n",
        "      self.weight = Parameter(torch.Tensor(self.out_channels, \n",
        "                                 self.in_channels, \n",
        "                                 *kernel_size))\n",
        "      self.bias = Parameter(torch.Tensor(out_channels))\n",
        "      \n",
        "      initOptions={\n",
        "          0: self.xeInit,\n",
        "          1: self.orthogonalInit,\n",
        "          2: self.uniformInit,           \n",
        "      }\n",
        "\n",
        "      initMethod = initOptions.get(InitStrategy, self.defaultInit)\n",
        "      initMethod()\n",
        "      \n",
        "      \n",
        "  def forward(self, x):\n",
        "    return F.conv2d(x, self.weight, self.bias, self.stride, \n",
        "                    self.padding, self.dilation, self.groups)\n",
        "  \n",
        "  def defaultInit(self):\n",
        "    self.uniformInit()\n",
        "  \n",
        "  def xeInit(self, gain=1):\n",
        "    self.weight.data = nn.init.xavier_uniform(self.weight.data)\n",
        "    \n",
        "  def orthogonalInit(self):\n",
        "    X = np.random.random((self.out_channels, self.in_channels, *self.kernel_size))\n",
        "    U, _, Vt = np.linalg.svd(X, full_matrices=False)\n",
        "    if x.shape[0] > x.shape[1]:\n",
        "      weight = U\n",
        "    else:\n",
        "      weight = Vt\n",
        "    W = weight.reshape(self.out_channels, self.in_channels, *self.kernel_size)\n",
        "    self.weight = Parameter(torch.tensor(W).float())\n",
        "    self.bias.data.uniform_(0, 0)\n",
        "  \n",
        "  def uniformInit(self):\n",
        "    self.weight.data.uniform_(-1, 1)\n",
        "    self.bias.data.uniform_(0, 0)\n",
        "  \n",
        "class CrossEntropyLoss(nn.Module):\n",
        "  def __init__(self, weight=None, size_average=None, ignore_index=-100,\n",
        "               reduce=None, reduction='mean'):\n",
        "      super(CrossEntropyLoss, self).__init__()\n",
        "\n",
        "  def forward(self, input, target):\n",
        "      wrong_class_penalty = torch.log(torch.sum(torch.exp(y_hat), dim=1) + sys.float_info.epsilon)\n",
        "      n, classes = y_hat.size()\n",
        "      b = torch.zeros((n, classes))\n",
        "      b[np.arange(n), y_truth] = 1\n",
        "      true_class_pred = torch.sum(y_hat * b.cuda(), dim=1)\n",
        "      ce = torch.mean(-true_class_pred + wrong_class_penalty)\n",
        "\n",
        "      return ce\n",
        "\n",
        "class ConvNetwork(nn.Module):\n",
        "  def __init__(self, dataset):\n",
        "    super(ConvNetwork, self).__init__()\n",
        "    x, y = dataset[0]\n",
        "    c, h, w = x.size()\n",
        "    output = 10\n",
        "    \n",
        "    self.net = nn.Sequential(\n",
        "          nn.Conv2d(c, 125, (3,3), padding=(1,1)),\n",
        "          nn.ReLU(),\n",
        "          nn.Conv2d(125, 125, (3,3), padding=(1,1)),\n",
        "          nn.ReLU(),\n",
        "          nn.Conv2d(125, 125, (3,3), padding=(1,1)),\n",
        "          nn.Conv2d(125, output, (28,28), padding=(0,0))\n",
        "    )\n",
        "    \n",
        "  def forward(self, x):\n",
        "    net_result = self.net(x)\n",
        "    squeezed = net_result.squeeze(2).squeeze(2)\n",
        "    return squeezed\n",
        "    \n",
        "class FashionMNISTProcessedDataset(Dataset):\n",
        "  def __init__(self, root, train=True):\n",
        "    self.data = datasets.FashionMNIST(root,\n",
        "                                      train=train, \n",
        "                                      transform=transforms.ToTensor(),\n",
        "                                      download=True)\n",
        "    self.e = torch.eye(10)\n",
        "    \n",
        "  def __getitem__(self, i):\n",
        "    x, y = self.data[i]\n",
        "    return x, y\n",
        "\n",
        "  def __len__(self):\n",
        "    return 42 #len(self.data)\n",
        "  \n",
        "  \n",
        "training_set = FashionMNISTProcessedDataset('/tmp/fasionmnist', train=True)\n",
        "validation_set = FashionMNISTProcessedDataset('/tmp/fasionmnist', train=False)\n",
        "\n",
        "model = ConvNetwork(training_set)\n",
        "\n",
        "model = model.cuda()\n",
        "objective = CrossEntropyLoss()\n",
        "optimizer = optim.Adam(model.parameters(), lr=1e-5)\n",
        "\n",
        "training_data_loader = DataLoader(training_set,\n",
        "                         batch_size=42,\n",
        "                         pin_memory=True)\n",
        "val_loader = DataLoader(validation_set,\n",
        "                         batch_size=42,\n",
        "                         pin_memory=True)\n",
        "\n",
        "losses = []\n",
        "validations = []\n",
        "plt_train_accuracy = []\n",
        "plt_valid_accuracy = []\n",
        "plt_train_loss = []\n",
        "plt_valid_loss = []\n",
        "\n",
        "for epoch in range(100):\n",
        "  loop = tqdm(total=len(training_data_loader), position=0)\n",
        "  \n",
        "  for batch, (x, y_truth) in enumerate(training_data_loader):\n",
        "    x, y_truth = x.cuda(async=True), y_truth.cuda(async=True)\n",
        "\n",
        "    optimizer.zero_grad()\n",
        "\n",
        "    y_hat = model(x)\n",
        "    loss = objective(y_hat, y_truth)\n",
        "    \n",
        "    loss.backward()\n",
        "    optimizer.step()\n",
        "    \n",
        "    losses.append(loss)\n",
        "    plt_train_accuracy.append((y_hat.argmax(1) == y_truth).float().mean())\n",
        "    plt_train_loss.append(loss.item())\n",
        "    \n",
        "  if batch % 15 == 0:\n",
        "    val = np.mean([objective(model(x.cuda()), y.cuda()).item()\n",
        "                  for x, y, in val_loader])\n",
        "    validations.append((len(losses), val))\n",
        "    plt_valid_accuracy.append((y_hat.argmax(1) == y_truth).float().mean())\n",
        "    plt_valid_loss.append(val.item())\n",
        "    \n",
        "  a, b = zip(*validations)\n",
        "  loop.set_description('loss:{:.4f} --- validation loss:{:.2f}'.format(plt_train_loss[-1], plt_valid_loss[-1]))\n",
        "  loop.update(1)\n",
        "  loop.close()\n",
        "  "
      ],
      "execution_count": 0,
      "outputs": [
        {
          "output_type": "stream",
          "text": [
            "loss:2.2973 --- validation loss:2.30: 100%|██████████| 1/1 [00:00<00:00, 16.83it/s]\n",
            "loss:2.2800 --- validation loss:2.28: 100%|██████████| 1/1 [00:00<00:00, 17.06it/s]\n",
            "loss:2.2634 --- validation loss:2.26: 100%|██████████| 1/1 [00:00<00:00, 17.06it/s]\n",
            "loss:2.2474 --- validation loss:2.25: 100%|██████████| 1/1 [00:00<00:00, 21.99it/s]\n",
            "loss:2.2319 --- validation loss:2.23: 100%|██████████| 1/1 [00:00<00:00, 22.02it/s]\n",
            "loss:2.2169 --- validation loss:2.22: 100%|██████████| 1/1 [00:00<00:00, 22.13it/s]\n",
            "loss:2.2023 --- validation loss:2.20: 100%|██████████| 1/1 [00:00<00:00, 22.16it/s]\n",
            "loss:2.1880 --- validation loss:2.19: 100%|██████████| 1/1 [00:00<00:00, 22.93it/s]\n",
            "loss:2.1740 --- validation loss:2.17: 100%|██████████| 1/1 [00:00<00:00, 23.82it/s]\n",
            "loss:2.1602 --- validation loss:2.16: 100%|██████████| 1/1 [00:00<00:00, 23.18it/s]\n",
            "loss:2.1465 --- validation loss:2.15: 100%|██████████| 1/1 [00:00<00:00, 22.88it/s]\n",
            "loss:2.1330 --- validation loss:2.13: 100%|██████████| 1/1 [00:00<00:00, 24.01it/s]\n",
            "loss:2.1195 --- validation loss:2.12: 100%|██████████| 1/1 [00:00<00:00, 23.39it/s]\n",
            "loss:2.1060 --- validation loss:2.11: 100%|██████████| 1/1 [00:00<00:00, 24.08it/s]\n",
            "loss:2.0925 --- validation loss:2.09: 100%|██████████| 1/1 [00:00<00:00, 24.29it/s]\n",
            "loss:2.0788 --- validation loss:2.08: 100%|██████████| 1/1 [00:00<00:00, 23.93it/s]\n",
            "loss:2.0650 --- validation loss:2.06: 100%|██████████| 1/1 [00:00<00:00, 23.63it/s]\n",
            "loss:2.0510 --- validation loss:2.05: 100%|██████████| 1/1 [00:00<00:00, 23.32it/s]\n",
            "loss:2.0367 --- validation loss:2.04: 100%|██████████| 1/1 [00:00<00:00, 23.39it/s]\n",
            "loss:2.0221 --- validation loss:2.02: 100%|██████████| 1/1 [00:00<00:00, 23.63it/s]\n",
            "loss:2.0072 --- validation loss:2.01: 100%|██████████| 1/1 [00:00<00:00, 23.43it/s]\n",
            "loss:1.9919 --- validation loss:1.99: 100%|██████████| 1/1 [00:00<00:00, 23.66it/s]\n",
            "loss:1.9762 --- validation loss:1.98: 100%|██████████| 1/1 [00:00<00:00, 23.55it/s]\n",
            "loss:1.9601 --- validation loss:1.96: 100%|██████████| 1/1 [00:00<00:00, 23.36it/s]\n",
            "loss:1.9436 --- validation loss:1.94: 100%|██████████| 1/1 [00:00<00:00, 23.72it/s]\n",
            "loss:1.9266 --- validation loss:1.93: 100%|██████████| 1/1 [00:00<00:00, 23.94it/s]\n",
            "loss:1.9091 --- validation loss:1.91: 100%|██████████| 1/1 [00:00<00:00, 23.40it/s]\n",
            "loss:1.8912 --- validation loss:1.89: 100%|██████████| 1/1 [00:00<00:00, 23.37it/s]\n",
            "loss:1.8729 --- validation loss:1.87: 100%|██████████| 1/1 [00:00<00:00, 23.53it/s]\n",
            "loss:1.8540 --- validation loss:1.85: 100%|██████████| 1/1 [00:00<00:00, 23.33it/s]\n",
            "loss:1.8348 --- validation loss:1.83: 100%|██████████| 1/1 [00:00<00:00, 23.33it/s]\n",
            "loss:1.8150 --- validation loss:1.82: 100%|██████████| 1/1 [00:00<00:00, 23.83it/s]\n",
            "loss:1.7949 --- validation loss:1.79: 100%|██████████| 1/1 [00:00<00:00, 22.94it/s]\n",
            "loss:1.7743 --- validation loss:1.77: 100%|██████████| 1/1 [00:00<00:00, 22.69it/s]\n",
            "loss:1.7532 --- validation loss:1.75: 100%|██████████| 1/1 [00:00<00:00, 24.14it/s]\n",
            "loss:1.7318 --- validation loss:1.73: 100%|██████████| 1/1 [00:00<00:00, 23.13it/s]\n",
            "loss:1.7099 --- validation loss:1.71: 100%|██████████| 1/1 [00:00<00:00, 23.77it/s]\n",
            "loss:1.6876 --- validation loss:1.69: 100%|██████████| 1/1 [00:00<00:00, 23.74it/s]\n",
            "loss:1.6649 --- validation loss:1.66: 100%|██████████| 1/1 [00:00<00:00, 21.70it/s]\n",
            "loss:1.6418 --- validation loss:1.64: 100%|██████████| 1/1 [00:00<00:00, 22.72it/s]\n",
            "loss:1.6184 --- validation loss:1.62: 100%|██████████| 1/1 [00:00<00:00, 23.10it/s]\n",
            "loss:1.5945 --- validation loss:1.59: 100%|██████████| 1/1 [00:00<00:00, 23.64it/s]\n",
            "loss:1.5704 --- validation loss:1.57: 100%|██████████| 1/1 [00:00<00:00, 22.69it/s]\n",
            "loss:1.5459 --- validation loss:1.55: 100%|██████████| 1/1 [00:00<00:00, 22.34it/s]\n",
            "loss:1.5211 --- validation loss:1.52: 100%|██████████| 1/1 [00:00<00:00, 23.86it/s]\n",
            "loss:1.4960 --- validation loss:1.50: 100%|██████████| 1/1 [00:00<00:00, 23.88it/s]\n",
            "loss:1.4707 --- validation loss:1.47: 100%|██████████| 1/1 [00:00<00:00, 23.87it/s]\n",
            "loss:1.4451 --- validation loss:1.45: 100%|██████████| 1/1 [00:00<00:00, 23.42it/s]\n",
            "loss:1.4195 --- validation loss:1.42: 100%|██████████| 1/1 [00:00<00:00, 23.90it/s]\n",
            "loss:1.3936 --- validation loss:1.39: 100%|██████████| 1/1 [00:00<00:00, 22.76it/s]\n",
            "loss:1.3677 --- validation loss:1.37: 100%|██████████| 1/1 [00:00<00:00, 22.22it/s]\n",
            "loss:1.3417 --- validation loss:1.34: 100%|██████████| 1/1 [00:00<00:00, 23.29it/s]\n",
            "loss:1.3158 --- validation loss:1.32: 100%|██████████| 1/1 [00:00<00:00, 22.53it/s]\n",
            "loss:1.2898 --- validation loss:1.29: 100%|██████████| 1/1 [00:00<00:00, 22.97it/s]\n",
            "loss:1.2639 --- validation loss:1.26: 100%|██████████| 1/1 [00:00<00:00, 23.38it/s]\n",
            "loss:1.2382 --- validation loss:1.24: 100%|██████████| 1/1 [00:00<00:00, 22.82it/s]\n",
            "loss:1.2125 --- validation loss:1.21: 100%|██████████| 1/1 [00:00<00:00, 22.25it/s]\n",
            "loss:1.1870 --- validation loss:1.19: 100%|██████████| 1/1 [00:00<00:00, 22.72it/s]\n",
            "loss:1.1618 --- validation loss:1.16: 100%|██████████| 1/1 [00:00<00:00, 22.60it/s]\n",
            "loss:1.1367 --- validation loss:1.14: 100%|██████████| 1/1 [00:00<00:00, 24.83it/s]\n",
            "loss:1.1119 --- validation loss:1.11: 100%|██████████| 1/1 [00:00<00:00, 23.85it/s]\n",
            "loss:1.0875 --- validation loss:1.09: 100%|██████████| 1/1 [00:00<00:00, 23.85it/s]\n",
            "loss:1.0633 --- validation loss:1.06: 100%|██████████| 1/1 [00:00<00:00, 23.59it/s]\n",
            "loss:1.0395 --- validation loss:1.04: 100%|██████████| 1/1 [00:00<00:00, 24.07it/s]\n",
            "loss:1.0161 --- validation loss:1.02: 100%|██████████| 1/1 [00:00<00:00, 22.51it/s]\n",
            "loss:0.9930 --- validation loss:0.99: 100%|██████████| 1/1 [00:00<00:00, 23.72it/s]\n",
            "loss:0.9704 --- validation loss:0.97: 100%|██████████| 1/1 [00:00<00:00, 23.99it/s]\n",
            "loss:0.9482 --- validation loss:0.95: 100%|██████████| 1/1 [00:00<00:00, 22.38it/s]\n",
            "loss:0.9265 --- validation loss:0.93: 100%|██████████| 1/1 [00:00<00:00, 24.05it/s]\n",
            "loss:0.9052 --- validation loss:0.91: 100%|██████████| 1/1 [00:00<00:00, 22.72it/s]\n",
            "loss:0.8844 --- validation loss:0.88: 100%|██████████| 1/1 [00:00<00:00, 22.90it/s]\n",
            "loss:0.8640 --- validation loss:0.86: 100%|██████████| 1/1 [00:00<00:00, 23.13it/s]\n",
            "loss:0.8441 --- validation loss:0.84: 100%|██████████| 1/1 [00:00<00:00, 22.60it/s]\n",
            "loss:0.8246 --- validation loss:0.82: 100%|██████████| 1/1 [00:00<00:00, 24.04it/s]\n",
            "loss:0.8056 --- validation loss:0.81: 100%|██████████| 1/1 [00:00<00:00, 23.41it/s]\n",
            "loss:0.7870 --- validation loss:0.79: 100%|██████████| 1/1 [00:00<00:00, 22.79it/s]\n",
            "loss:0.7689 --- validation loss:0.77: 100%|██████████| 1/1 [00:00<00:00, 22.57it/s]\n",
            "loss:0.7512 --- validation loss:0.75: 100%|██████████| 1/1 [00:00<00:00, 23.06it/s]\n",
            "loss:0.7339 --- validation loss:0.73: 100%|██████████| 1/1 [00:00<00:00, 22.64it/s]\n",
            "loss:0.7171 --- validation loss:0.72: 100%|██████████| 1/1 [00:00<00:00, 21.52it/s]\n",
            "loss:0.7007 --- validation loss:0.70: 100%|██████████| 1/1 [00:00<00:00, 23.43it/s]\n",
            "loss:0.6847 --- validation loss:0.68: 100%|██████████| 1/1 [00:00<00:00, 23.01it/s]\n",
            "loss:0.6690 --- validation loss:0.67: 100%|██████████| 1/1 [00:00<00:00, 22.96it/s]\n",
            "loss:0.6538 --- validation loss:0.65: 100%|██████████| 1/1 [00:00<00:00, 22.80it/s]\n",
            "loss:0.6390 --- validation loss:0.64: 100%|██████████| 1/1 [00:00<00:00, 22.92it/s]\n",
            "loss:0.6246 --- validation loss:0.62: 100%|██████████| 1/1 [00:00<00:00, 23.26it/s]\n",
            "loss:0.6105 --- validation loss:0.61: 100%|██████████| 1/1 [00:00<00:00, 23.67it/s]\n",
            "loss:0.5967 --- validation loss:0.60: 100%|██████████| 1/1 [00:00<00:00, 23.07it/s]\n",
            "loss:0.5833 --- validation loss:0.58: 100%|██████████| 1/1 [00:00<00:00, 23.42it/s]\n",
            "loss:0.5702 --- validation loss:0.57: 100%|██████████| 1/1 [00:00<00:00, 23.34it/s]\n",
            "loss:0.5575 --- validation loss:0.56: 100%|██████████| 1/1 [00:00<00:00, 22.92it/s]\n",
            "loss:0.5450 --- validation loss:0.54: 100%|██████████| 1/1 [00:00<00:00, 23.76it/s]\n",
            "loss:0.5328 --- validation loss:0.53: 100%|██████████| 1/1 [00:00<00:00, 23.20it/s]\n",
            "loss:0.5210 --- validation loss:0.52: 100%|██████████| 1/1 [00:00<00:00, 23.56it/s]\n",
            "loss:0.5094 --- validation loss:0.51: 100%|██████████| 1/1 [00:00<00:00, 22.94it/s]\n",
            "loss:0.4981 --- validation loss:0.50: 100%|██████████| 1/1 [00:00<00:00, 23.13it/s]\n",
            "loss:0.4870 --- validation loss:0.49: 100%|██████████| 1/1 [00:00<00:00, 23.45it/s]\n",
            "loss:0.4763 --- validation loss:0.48: 100%|██████████| 1/1 [00:00<00:00, 23.28it/s]\n",
            "loss:0.4657 --- validation loss:0.47: 100%|██████████| 1/1 [00:00<00:00, 23.58it/s]\n",
            "loss:0.4555 --- validation loss:0.46: 100%|██████████| 1/1 [00:00<00:00, 23.16it/s]\n"
          ],
          "name": "stderr"
        }
      ]
    },
    {
      "cell_type": "code",
      "metadata": {
        "id": "oew1rVHgYhaZ",
        "colab_type": "code",
        "outputId": "becf44c6-75c3-4aa9-d455-a45bed363d16",
        "colab": {
          "base_uri": "https://localhost:8080/",
          "height": 581
        }
      },
      "source": [
        "print(plt_train_accuracy[-1])\n",
        "print(plt_valid_accuracy[-1])\n",
        "\n",
        "plt.title(\"Accuracy\")\n",
        "plt.plot(plt_train_accuracy, label='train accuracy')\n",
        "plt.plot(plt_valid_accuracy, label='validation accuracy')\n",
        "plt.plot(range(len(plt_train_accuracy)), plt_train_accuracy)\n",
        "plt.plot(range(len(plt_valid_accuracy)), plt_valid_accuracy)\n",
        "plt.legend()\n",
        "plt.show()\n",
        "\n",
        "plt.title(\"Loss\")\n",
        "plt.plot(plt_train_loss, label='train loss')\n",
        "plt.plot(plt_valid_loss, label='vaildation loss')\n",
        "plt.plot(range(len(plt_train_loss)), plt_train_loss)\n",
        "plt.plot(range(len(plt_valid_loss)), plt_valid_loss)\n",
        "plt.legend()\n",
        "plt.show()"
      ],
      "execution_count": 0,
      "outputs": [
        {
          "output_type": "stream",
          "text": [
            "tensor(0.9286, device='cuda:0')\n",
            "tensor(0.9286, device='cuda:0')\n"
          ],
          "name": "stdout"
        },
        {
          "output_type": "display_data",
          "data": {
            "image/png": "[encoded data removed]",
            "text/plain": [
              "<Figure size 432x288 with 1 Axes>"
            ]
          },
          "metadata": {
            "tags": []
          }
        },
        {
          "output_type": "display_data",
          "data": {
            "image/png": "[encoded data removed]",
            "text/plain": [
              "<Figure size 432x288 with 1 Axes>"
            ]
          },
          "metadata": {
            "tags": []
          }
        }
      ]
    },
    {
      "cell_type": "code",
      "metadata": {
        "id": "0beMDADdVpHp",
        "colab_type": "code",
        "outputId": "27b5d4a4-e100-4c57-cced-9e0cb1faa1bf",
        "colab": {
          "base_uri": "https://localhost:8080/",
          "height": 34
        }
      },
      "source": [
        "# prints number of parameters\n",
        "numParameters = 0\n",
        "for p in model.parameters():\n",
        "  numParameters = numParameters + np.prod(p.size())\n",
        "print(numParameters)"
      ],
      "execution_count": 0,
      "outputs": [
        {
          "output_type": "stream",
          "text": [
            "1262760\n"
          ],
          "name": "stdout"
        }
      ]
    },
    {
      "cell_type": "code",
      "metadata": {
        "id": "ncjHvVuaWzyc",
        "colab_type": "code",
        "outputId": "87440e3d-50d0-47d8-efb2-1dcfcb6553b3",
        "colab": {
          "base_uri": "https://localhost:8080/",
          "height": 34
        }
      },
      "source": [
        "# Kernel size test\n",
        "# (c=3, h=10, w=10) => (c=10, h=8, w=8) : out=10, kernel_size=(3,3), padding=(0,0)\n",
        "\n",
        "c = nn.Conv2d(3, 65, kernel_size=(3,3), padding=(2,2))\n",
        "c(torch.zeros(1, 3, 10, 10)).size()"
      ],
      "execution_count": 0,
      "outputs": [
        {
          "output_type": "execute_result",
          "data": {
            "text/plain": [
              "torch.Size([1, 65, 12, 12])"
            ]
          },
          "metadata": {
            "tags": []
          },
          "execution_count": 7
        }
      ]
    },
    {
      "cell_type": "code",
      "metadata": {
        "id": "rtgs_Ly9WraL",
        "colab_type": "code",
        "outputId": "3e25e36e-2dfe-44ab-ae78-8d598a274774",
        "colab": {
          "base_uri": "https://localhost:8080/",
          "height": 323
        }
      },
      "source": [
        "# RAM problem debugging\n",
        "!nvidia-smi"
      ],
      "execution_count": 0,
      "outputs": [
        {
          "output_type": "stream",
          "text": [
            "Tue Sep 17 17:35:49 2019       \n",
            "+-----------------------------------------------------------------------------+\n",
            "| NVIDIA-SMI 430.40       Driver Version: 418.67       CUDA Version: 10.1     |\n",
            "|-------------------------------+----------------------+----------------------+\n",
            "| GPU  Name        Persistence-M| Bus-Id        Disp.A | Volatile Uncorr. ECC |\n",
            "| Fan  Temp  Perf  Pwr:Usage/Cap|         Memory-Usage | GPU-Util  Compute M. |\n",
            "|===============================+======================+======================|\n",
            "|   0  Tesla T4            Off  | 00000000:00:04.0 Off |                    0 |\n",
            "| N/A   78C    P0    34W /  70W |    803MiB / 15079MiB |      0%      Default |\n",
            "+-------------------------------+----------------------+----------------------+\n",
            "                                                                               \n",
            "+-----------------------------------------------------------------------------+\n",
            "| Processes:                                                       GPU Memory |\n",
            "|  GPU       PID   Type   Process name                             Usage      |\n",
            "|=============================================================================|\n",
            "+-----------------------------------------------------------------------------+\n"
          ],
          "name": "stdout"
        }
      ]
    }
  ]
}